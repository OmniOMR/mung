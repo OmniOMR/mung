{
 "cells": [
  {
   "cell_type": "markdown",
   "metadata": {},
   "source": [
    "# MUSCIMA++ Tutorial\n",
    "\n",
    "This is a tutorial for using the `muscima` package to work with the MUSCIMA++\n",
    "dataset.\n",
    "\n",
    "We assume you have already gone through the README and downloaded the dataset. Let's load it."
   ]
  },
  {
   "cell_type": "code",
   "execution_count": 1,
   "metadata": {},
   "outputs": [],
   "source": [
    "import os\n",
    "from muscima.io import read_nodes_from_file\n",
    "\n",
    "# Change this to reflect wherever your MUSCIMA++ data lives\n",
    "CROPOBJECT_DIR = os.path.join(os.environ['HOME'], 'data/MUSCIMA++/v0.9/data/cropobjects')\n",
    "\n",
    "cropobject_fnames = [os.path.join(CROPOBJECT_DIR, f) for f in os.listdir(CROPOBJECT_DIR)]\n",
    "docs = [read_nodes_from_file(f) for f in cropobject_fnames]"
   ]
  },
  {
   "cell_type": "markdown",
   "metadata": {},
   "source": [
    "Let's do something straightforward: symbol classification.\n",
    "\n",
    "## Symbol Classification\n",
    "\n",
    "Let's try to tell apart quarter notes from half notes.\n",
    "\n",
    "However, notes are recorded as individual primitives in MUSCIMA++,\n",
    "so we need to extract notehead-stem pairs from the data\n",
    "using their relationships.\n",
    "Quarter notes are all `full-notehead`-`stem` pairs with no beam or flag.\n",
    "Half-notes are all `empty-notehead`-`stem` pairs.\n",
    "\n",
    "After we extract the note classes, we will need to compute features for classification.\n",
    "To do that, we first need to \"draw\" the symbols in the appropriate relative positions.\n",
    "Then, we can extract whatever features we need.\n",
    "\n",
    "Finally, we train a classifier and evaluate it.\n"
   ]
  },
  {
   "cell_type": "markdown",
   "metadata": {},
   "source": [
    "### Extracting notes"
   ]
  },
  {
   "cell_type": "code",
   "execution_count": 4,
   "metadata": {},
   "outputs": [],
   "source": [
    "# Bear in mind that the outlinks are integers, only valid within the same document.\n",
    "# Therefore, we define a function per-document, not per-dataset.\n",
    "\n",
    "def extract_notes_from_doc(cropobjects):\n",
    "    \"\"\"Finds all ``(full-notehead, stem)`` pairs that form\n",
    "    quarter or half notes. Returns two lists of CropObject tuples:\n",
    "    one for quarter notes, one of half notes.\n",
    "    \n",
    "    :returns: quarter_notes, half_notes\n",
    "    \"\"\"\n",
    "    _cropobj_dict = {c.objid: c for c in cropobjects}\n",
    "    \n",
    "    notes = []\n",
    "    for c in cropobjects:\n",
    "        if (c.clsname == 'noteheadFull') or (c.clsname == 'notehead-empty'):\n",
    "            _has_stem = False\n",
    "            _has_beam_or_flag = False            \n",
    "            stem_obj = None\n",
    "            for o in c.outlinks:\n",
    "                _o_obj = _cropobj_dict[o]\n",
    "                if _o_obj.clsname == 'stem':\n",
    "                    _has_stem = True\n",
    "                    stem_obj = _o_obj\n",
    "                elif _o_obj.clsname == 'beam':\n",
    "                    _has_beam_or_flag = True\n",
    "                elif _o_obj.clsname.endswith('flag'):\n",
    "                    _has_beam_or_flag = True\n",
    "            if _has_stem and (not _has_beam_or_flag):\n",
    "                # We also need to check against quarter-note chords.\n",
    "                # Stems only have inlinks from noteheads, so checking\n",
    "                # for multiple inlinks will do the trick.\n",
    "                if len(stem_obj.inlinks) == 1:\n",
    "                    notes.append((c, stem_obj))\n",
    "    \n",
    "    quarter_notes = [(n, s) for n, s in notes if n.clsname == 'noteheadFull']\n",
    "    half_notes = [(n, s) for n, s in notes if n.clsname == 'notehead-empty']\n",
    "    return quarter_notes, half_notes\n",
    "\n",
    "qns_and_hns = [extract_notes_from_doc(cropobjects) for cropobjects in docs]"
   ]
  },
  {
   "cell_type": "markdown",
   "metadata": {},
   "source": [
    "Now, we don't need the `objid` anymore, so we can lump the notes from all 140 documents together."
   ]
  },
  {
   "cell_type": "code",
   "execution_count": 5,
   "metadata": {},
   "outputs": [
    {
     "data": {
      "text/plain": [
       "(4320, 1181)"
      ]
     },
     "execution_count": 5,
     "output_type": "execute_result",
     "metadata": {}
    }
   ],
   "source": [
    "import itertools\n",
    "qns = list(itertools.chain(*[qn for qn, hn in qns_and_hns]))\n",
    "hns = list(itertools.chain(*[hn for qn, hn in qns_and_hns]))\n",
    "\n",
    "len(qns), len(hns)"
   ]
  },
  {
   "cell_type": "markdown",
   "metadata": {},
   "source": [
    "It seems that we have some 4320 isolated quarter notes and 1181 isolated half-notes in our data.\n",
    "Let's create their images now."
   ]
  },
  {
   "cell_type": "markdown",
   "metadata": {},
   "source": [
    "### Creating note images\n",
    "\n",
    "Each notehead and stem CropObject has its own mask and its bounding box coordinates. We need to combine these two things, in order to create a binary image of the note."
   ]
  },
  {
   "cell_type": "code",
   "execution_count": 6,
   "metadata": {},
   "outputs": [],
   "source": [
    "import numpy\n",
    "\n",
    "def get_image(cropobjects, margin=1):\n",
    "    \"\"\"Paste the cropobjects' mask onto a shared canvas.\n",
    "    There will be a given margin of background on the edges.\"\"\"\n",
    "    \n",
    "    # Get the bounding box into which all the objects fit\n",
    "    top = min([c.top for c in cropobjects])\n",
    "    left = min([c.left for c in cropobjects])\n",
    "    bottom = max([c.bottom for c in cropobjects])\n",
    "    right = max([c.right for c in cropobjects])\n",
    "    \n",
    "    # Create the canvas onto which the masks will be pasted\n",
    "    height = bottom - top + 2 * margin\n",
    "    width = right - left + 2 * margin\n",
    "    canvas = numpy.zeros((height, width), dtype='uint8')\n",
    "    \n",
    "    for c in cropobjects:\n",
    "        # Get coordinates of upper left corner of the CropObject\n",
    "        # relative to the canvas\n",
    "        _pt = c.top - top + margin\n",
    "        _pl = c.left - left + margin\n",
    "        # We have to add the mask, so as not to overwrite\n",
    "        # previous nonzeros when symbol bounding boxes overlap.\n",
    "        canvas[_pt:_pt+c.height, _pl:_pl+c.width] += c.mask\n",
    "        \n",
    "    canvas[canvas > 0] = 1\n",
    "    return canvas\n",
    "\n",
    "qn_images = [get_image(qn) for qn in qns]\n",
    "hn_images = [get_image(hn) for hn in hns]"
   ]
  },
  {
   "cell_type": "markdown",
   "metadata": {},
   "source": [
    "Let's visualize some of these notes, to check whether everything worked.\n",
    "(For this, we assume you have matplotlib. If not, you can skip this step.)"
   ]
  },
  {
   "cell_type": "code",
   "execution_count": 7,
   "metadata": {},
   "outputs": [],
   "source": [
    "import matplotlib.pyplot as plt\n",
    "\n",
    "def show_mask(mask):\n",
    "    plt.imshow(mask, cmap='gray', interpolation='nearest')\n",
    "    plt.show()\n",
    "\n",
    "def show_masks(masks, row_length=5):\n",
    "    n_masks = len(masks)\n",
    "    n_rows = n_masks // row_length + 1\n",
    "    n_cols = min(n_masks, row_length)\n",
    "    fig = plt.figure()\n",
    "    for i, mask in enumerate(masks):\n",
    "        plt.subplot(n_rows, n_cols, i+1)\n",
    "        plt.imshow(mask, cmap='gray', interpolation='nearest')\n",
    "    # Let's remove the axis labels, they clutter the image.\n",
    "    for ax in fig.axes:\n",
    "        ax.set_yticklabels([])\n",
    "        ax.set_xticklabels([])\n",
    "        ax.set_yticks([])\n",
    "        ax.set_xticks([])\n",
    "    plt.show()"
   ]
  },
  {
   "cell_type": "code",
   "execution_count": 8,
   "metadata": {},
   "outputs": [
    {
     "data": {
      "image/png": "[encoded data removed]"
     },
     "output_type": "display_data",
     "metadata": {}
    },
    {
     "data": {
      "image/png": "[encoded data removed]"
     },
     "output_type": "display_data",
     "metadata": {}
    }
   ],
   "source": [
    "show_masks(qn_images[:25])\n",
    "show_masks(hn_images[:25])"
   ]
  },
  {
   "cell_type": "markdown",
   "metadata": {},
   "source": [
    "It seems that the extraction went all right."
   ]
  },
  {
   "cell_type": "markdown",
   "metadata": {},
   "source": [
    "### Feature Extraction\n",
    "\n",
    "Now, we need to somehow turn the note images into classifier inputs.\n",
    "\n",
    "Let's get some inspiration from the setup of the HOMUS dataset. \n",
    "In their baseline classification experiments, the authors just resized their images\n",
    "to 20x20. For notes, however, this may not be such a good idea, because\n",
    "it will make them too short. Let's instead resize to 40x10."
   ]
  },
  {
   "cell_type": "code",
   "execution_count": 9,
   "metadata": {},
   "outputs": [],
   "source": [
    "from skimage.transform import resize\n",
    "\n",
    "qn_resized = [resize(qn, (40, 10)) for qn in qn_images]\n",
    "hn_resized = [resize(hn, (40, 10)) for hn in hn_images]\n",
    "\n",
    "# And re-binarize, to compensate for interpolation effects\n",
    "for qn in qn_resized:\n",
    "    qn[qn > 0] = 1\n",
    "for hn in hn_resized:\n",
    "    hn[hn > 0] = 1"
   ]
  },
  {
   "cell_type": "markdown",
   "metadata": {},
   "source": [
    "How do the resized notes look?"
   ]
  },
  {
   "cell_type": "code",
   "execution_count": 10,
   "metadata": {},
   "outputs": [
    {
     "data": {
      "image/png": "[encoded data removed]"
     },
     "output_type": "display_data",
     "metadata": {}
    },
    {
     "data": {
      "image/png": "[encoded data removed]"
     },
     "output_type": "display_data",
     "metadata": {}
    }
   ],
   "source": [
    "show_masks(qn_resized[:25])\n",
    "show_masks(hn_resized[-25:])"
   ]
  },
  {
   "cell_type": "markdown",
   "metadata": {},
   "source": [
    "### Classification"
   ]
  },
  {
   "cell_type": "markdown",
   "metadata": {},
   "source": [
    "We now need to add the output labels and make a train-dev-test split out of this.\n",
    "\n",
    "Let's make a balanced dataset, to keep things simpler."
   ]
  },
  {
   "cell_type": "code",
   "execution_count": 11,
   "metadata": {},
   "outputs": [],
   "source": [
    "# Randomly pick an equal number of quarter-notes.\n",
    "n_hn = len(hn_resized)\n",
    "import random\n",
    "random.shuffle(qn_resized)\n",
    "qn_selected = qn_resized[:n_hn]"
   ]
  },
  {
   "cell_type": "markdown",
   "metadata": {},
   "source": [
    "Now, create the output labels and merge the data into one dataset."
   ]
  },
  {
   "cell_type": "code",
   "execution_count": 25,
   "metadata": {},
   "outputs": [],
   "source": [
    "Q_LABEL = 1\n",
    "H_LABEL = 0\n",
    "\n",
    "qn_labels = [Q_LABEL for _ in qn_selected]\n",
    "hn_labels = [H_LABEL for _ in hn_resized]\n",
    "\n",
    "\n",
    "\n",
    "notes = qn_selected + hn_resized\n",
    "# Flatten data\n",
    "notes_flattened = [n.flatten() for n in notes]\n",
    "labels = qn_labels + hn_labels"
   ]
  },
  {
   "cell_type": "markdown",
   "metadata": {},
   "source": [
    "Let's use the `sklearn` package for experimental setup.\n",
    "Normally, we would do cross-validation on data of this small size,\n",
    "but for the purposes of the tutorial, we will stick to just one train/test split."
   ]
  },
  {
   "cell_type": "code",
   "execution_count": 26,
   "metadata": {},
   "outputs": [],
   "source": [
    "from sklearn.model_selection import train_test_split\n",
    "\n",
    "X_train, X_test, y_train, y_test = train_test_split(\n",
    "    notes_flattened, labels, test_size=0.25, random_state=42,\n",
    "    stratify=labels)"
   ]
  },
  {
   "cell_type": "markdown",
   "metadata": {},
   "source": [
    "What could we use to classify this data? Perhaps a k-NN classifier might work."
   ]
  },
  {
   "cell_type": "code",
   "execution_count": 43,
   "metadata": {},
   "outputs": [
    {
     "data": {
      "text/plain": [
       "KNeighborsClassifier(algorithm='auto', leaf_size=30, metric='minkowski',\n",
       "           metric_params=None, n_jobs=1, n_neighbors=5, p=2,\n",
       "           weights='uniform')"
      ]
     },
     "execution_count": 43,
     "output_type": "execute_result",
     "metadata": {}
    }
   ],
   "source": [
    "from sklearn.neighbors import KNeighborsClassifier\n",
    "\n",
    "K=5\n",
    "\n",
    "# Trying the defaults first.\n",
    "clf = KNeighborsClassifier(n_neighbors=K)\n",
    "clf.fit(X_train, y_train)"
   ]
  },
  {
   "cell_type": "markdown",
   "metadata": {},
   "source": [
    "Let's run the classifier now and evaluate the results."
   ]
  },
  {
   "cell_type": "code",
   "execution_count": 44,
   "metadata": {},
   "outputs": [],
   "source": [
    "y_test_pred = clf.predict(X_test)"
   ]
  },
  {
   "cell_type": "code",
   "execution_count": 45,
   "metadata": {},
   "outputs": [
    {
     "name": "stdout",
     "output_type": "stream",
     "text": [
      "             precision    recall  f1-score   support\n",
      "\n",
      "       half       0.98      0.87      0.92       296\n",
      "    quarter       0.88      0.98      0.93       295\n",
      "\n",
      "avg / total       0.93      0.93      0.93       591\n",
      "\n"
     ]
    }
   ],
   "source": [
    "from sklearn.metrics import classification_report\n",
    "print(classification_report(y_test, y_test_pred, target_names=['half', 'quarter']))"
   ]
  },
  {
   "cell_type": "markdown",
   "metadata": {},
   "source": [
    "#### NOT BAD.\n",
    "\n"
   ]
  },
  {
   "cell_type": "markdown",
   "metadata": {},
   "source": [
    "Apparently, most mistakes happen when half-notes are classified as quarter-notes.\n",
    "Also, remember that we made the train/test split randomly, so there are almost certainly\n",
    "notes from each writer both in the test set and in the training data. This is\n",
    "ripe picking for the kNN classifier.\n",
    "\n",
    "Can we perhaps quantify that effect?\n",
    "\n",
    "...and that is beyond the scope of this tutorial."
   ]
  }
 ],
 "metadata": {
  "anaconda-cloud": {},
  "kernelspec": {
   "display_name": "Python [conda env:py35]",
   "language": "python",
   "name": "conda-env-py35-py"
  },
  "language_info": {
   "codemirror_mode": {
    "name": "ipython",
    "version": 3.0
   },
   "file_extension": ".py",
   "mimetype": "text/x-python",
   "name": "python",
   "nbconvert_exporter": "python",
   "pygments_lexer": "ipython3",
   "version": "3.5.3"
  }
 },
 "nbformat": 4,
 "nbformat_minor": 1
}